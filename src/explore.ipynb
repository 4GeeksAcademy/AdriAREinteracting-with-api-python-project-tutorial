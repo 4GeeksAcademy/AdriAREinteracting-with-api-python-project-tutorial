{
    "cells": [
        {
            "cell_type": "markdown",
            "metadata": {},
            "source": [
                "# Explore here"
            ]
        },
        {
            "cell_type": "code",
            "execution_count": 8,
            "metadata": {},
            "outputs": [
                {
                    "data": {
                        "text/plain": [
                            "True"
                        ]
                    },
                    "execution_count": 8,
                    "metadata": {},
                    "output_type": "execute_result"
                }
            ],
            "source": [
                "import os\n",
                "import pandas as pd\n",
                "import matplotlib.pyplot as plt\n",
                "from dotenv import load_dotenv\n",
                "import spotipy\n",
                "from spotipy.oauth2 import SpotifyClientCredentials\n",
                "\n",
                "# load the .env file variables\n",
                "load_dotenv(override=True) #Sólo funciona con override"
            ]
        },
        {
            "cell_type": "code",
            "execution_count": 13,
            "metadata": {},
            "outputs": [],
            "source": [
                "# Enviar IDs\n",
                "client_id = os.environ.get(\"CLIENT_ID\")\n",
                "client_secret = os.environ.get(\"CLIENT_SECRET\")"
            ]
        },
        {
            "cell_type": "code",
            "execution_count": null,
            "metadata": {},
            "outputs": [],
            "source": [
                "# Iniciar Spotipy\n",
                "\n",
                "auth_manager = SpotifyClientCredentials(client_id=client_id, client_secret=client_secret)\n",
                "spotify = spotipy.Spotify(auth_manager=auth_manager)\n"
            ]
        },
        {
            "cell_type": "code",
            "execution_count": null,
            "metadata": {},
            "outputs": [
                {
                    "name": "stdout",
                    "output_type": "stream",
                    "text": [
                        "Artista: Eminem\n",
                        "ID: 7dGJo4pcD2V6oG8kP0tJRR\n"
                    ]
                }
            ],
            "source": [
                "# Solicitudes API Artista e ID\n",
                "artist_name = \"Eminem\"\n",
                "results = spotify.search(q='artist:' + artist_name, type='artist', limit=1)\n",
                "artist = results['artists']['items'][0]\n",
                "print(f\"Artista: {artist['name']}\")\n",
                "print(f\"ID: {artist['id']}\")"
            ]
        },
        {
            "cell_type": "code",
            "execution_count": 29,
            "metadata": {},
            "outputs": [
                {
                    "name": "stdout",
                    "output_type": "stream",
                    "text": [
                        "Top 10 canciones de Eminem:\n",
                        "- Without Me: Popularidad 87, Duración 4.84min\n",
                        "- Mockingbird: Popularidad 85, Duración 4.18min\n",
                        "- Lose Yourself: Popularidad 79, Duración 5.37min\n",
                        "- Love The Way You Lie: Popularidad 85, Duración 4.39min\n",
                        "- The Real Slim Shady: Popularidad 84, Duración 4.74min\n",
                        "- Till I Collapse: Popularidad 83, Duración 4.96min\n",
                        "- Superman: Popularidad 82, Duración 5.84min\n",
                        "- The Monster: Popularidad 81, Duración 4.17min\n",
                        "- Stan: Popularidad 80, Duración 6.74min\n",
                        "- Godzilla (feat. Juice WRLD): Popularidad 80, Duración 3.51min\n"
                    ]
                }
            ],
            "source": [
                "# Top canciones\n",
                "top_tracks = spotify.artist_top_tracks(artist['id'])\n",
                "tracks_data = []\n",
                "\n",
                "for track in top_tracks['tracks']:\n",
                "    duration_min = track['duration_ms'] / 60000  # ms a minutos\n",
                "    tracks_data.append({\n",
                "        'name': track['name'],\n",
                "        'popularity': track['popularity'], \n",
                "        'duration_min': round(duration_min, 2)\n",
                "    })\n",
                "\n",
                "print(f\"Top {len(tracks_data)} canciones de {artist['name']}:\")\n",
                "for track in tracks_data:\n",
                "    print(f\"- {track['name']}: Popularidad {track['popularity']}, Duración {track['duration_min']}min\")"
            ]
        }
    ],
    "metadata": {
        "kernelspec": {
            "display_name": "Python 3",
            "language": "python",
            "name": "python3"
        },
        "language_info": {
            "codemirror_mode": {
                "name": "ipython",
                "version": 3
            },
            "file_extension": ".py",
            "mimetype": "text/x-python",
            "name": "python",
            "nbconvert_exporter": "python",
            "pygments_lexer": "ipython3",
            "version": "3.11.4"
        },
        "orig_nbformat": 4
    },
    "nbformat": 4,
    "nbformat_minor": 2
}
